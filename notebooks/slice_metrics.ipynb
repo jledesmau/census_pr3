{
 "cells": [
  {
   "cell_type": "code",
   "execution_count": 8,
   "metadata": {},
   "outputs": [],
   "source": [
    "import pandas as pd\n",
    "import seaborn as sns\n",
    "import os"
   ]
  },
  {
   "cell_type": "code",
   "execution_count": 7,
   "metadata": {},
   "outputs": [
    {
     "data": {
      "text/html": [
       "<div>\n",
       "<style scoped>\n",
       "    .dataframe tbody tr th:only-of-type {\n",
       "        vertical-align: middle;\n",
       "    }\n",
       "\n",
       "    .dataframe tbody tr th {\n",
       "        vertical-align: top;\n",
       "    }\n",
       "\n",
       "    .dataframe thead th {\n",
       "        text-align: right;\n",
       "    }\n",
       "</style>\n",
       "<table border=\"1\" class=\"dataframe\">\n",
       "  <thead>\n",
       "    <tr style=\"text-align: right;\">\n",
       "      <th></th>\n",
       "      <th>Features</th>\n",
       "      <th>Slices</th>\n",
       "      <th>Precision</th>\n",
       "      <th>Recall</th>\n",
       "      <th>F1</th>\n",
       "    </tr>\n",
       "  </thead>\n",
       "  <tbody>\n",
       "    <tr>\n",
       "      <th>0</th>\n",
       "      <td>workclass</td>\n",
       "      <td>Private</td>\n",
       "      <td>0.704459</td>\n",
       "      <td>0.590812</td>\n",
       "      <td>0.642650</td>\n",
       "    </tr>\n",
       "    <tr>\n",
       "      <th>1</th>\n",
       "      <td>workclass</td>\n",
       "      <td>Self-emp-not-inc</td>\n",
       "      <td>0.740000</td>\n",
       "      <td>0.480519</td>\n",
       "      <td>0.582677</td>\n",
       "    </tr>\n",
       "    <tr>\n",
       "      <th>2</th>\n",
       "      <td>workclass</td>\n",
       "      <td>Local-gov</td>\n",
       "      <td>0.767677</td>\n",
       "      <td>0.550725</td>\n",
       "      <td>0.641350</td>\n",
       "    </tr>\n",
       "    <tr>\n",
       "      <th>3</th>\n",
       "      <td>workclass</td>\n",
       "      <td>Self-emp-inc</td>\n",
       "      <td>0.807339</td>\n",
       "      <td>0.704000</td>\n",
       "      <td>0.752137</td>\n",
       "    </tr>\n",
       "    <tr>\n",
       "      <th>4</th>\n",
       "      <td>workclass</td>\n",
       "      <td>State-gov</td>\n",
       "      <td>0.852459</td>\n",
       "      <td>0.666667</td>\n",
       "      <td>0.748201</td>\n",
       "    </tr>\n",
       "    <tr>\n",
       "      <th>...</th>\n",
       "      <td>...</td>\n",
       "      <td>...</td>\n",
       "      <td>...</td>\n",
       "      <td>...</td>\n",
       "      <td>...</td>\n",
       "    </tr>\n",
       "    <tr>\n",
       "      <th>91</th>\n",
       "      <td>native-country</td>\n",
       "      <td>Outlying-US(Guam-USVI-etc)</td>\n",
       "      <td>1.000000</td>\n",
       "      <td>1.000000</td>\n",
       "      <td>1.000000</td>\n",
       "    </tr>\n",
       "    <tr>\n",
       "      <th>92</th>\n",
       "      <td>native-country</td>\n",
       "      <td>Portugal</td>\n",
       "      <td>1.000000</td>\n",
       "      <td>1.000000</td>\n",
       "      <td>1.000000</td>\n",
       "    </tr>\n",
       "    <tr>\n",
       "      <th>93</th>\n",
       "      <td>native-country</td>\n",
       "      <td>Ireland</td>\n",
       "      <td>1.000000</td>\n",
       "      <td>1.000000</td>\n",
       "      <td>1.000000</td>\n",
       "    </tr>\n",
       "    <tr>\n",
       "      <th>94</th>\n",
       "      <td>native-country</td>\n",
       "      <td>Hungary</td>\n",
       "      <td>1.000000</td>\n",
       "      <td>1.000000</td>\n",
       "      <td>1.000000</td>\n",
       "    </tr>\n",
       "    <tr>\n",
       "      <th>95</th>\n",
       "      <td>native-country</td>\n",
       "      <td>Honduras</td>\n",
       "      <td>1.000000</td>\n",
       "      <td>1.000000</td>\n",
       "      <td>1.000000</td>\n",
       "    </tr>\n",
       "  </tbody>\n",
       "</table>\n",
       "<p>96 rows × 5 columns</p>\n",
       "</div>"
      ],
      "text/plain": [
       "          Features                      Slices  Precision    Recall        F1\n",
       "0        workclass                     Private   0.704459  0.590812  0.642650\n",
       "1        workclass            Self-emp-not-inc   0.740000  0.480519  0.582677\n",
       "2        workclass                   Local-gov   0.767677  0.550725  0.641350\n",
       "3        workclass                Self-emp-inc   0.807339  0.704000  0.752137\n",
       "4        workclass                   State-gov   0.852459  0.666667  0.748201\n",
       "..             ...                         ...        ...       ...       ...\n",
       "91  native-country  Outlying-US(Guam-USVI-etc)   1.000000  1.000000  1.000000\n",
       "92  native-country                    Portugal   1.000000  1.000000  1.000000\n",
       "93  native-country                     Ireland   1.000000  1.000000  1.000000\n",
       "94  native-country                     Hungary   1.000000  1.000000  1.000000\n",
       "95  native-country                    Honduras   1.000000  1.000000  1.000000\n",
       "\n",
       "[96 rows x 5 columns]"
      ]
     },
     "execution_count": 7,
     "metadata": {},
     "output_type": "execute_result"
    }
   ],
   "source": [
    "df = pd.read_csv(\"../output/slice_metrics.csv\")\n",
    "df"
   ]
  },
  {
   "cell_type": "code",
   "execution_count": 41,
   "metadata": {},
   "outputs": [
    {
     "data": {
      "image/png": "[encoded data removed]",
      "text/plain": [
       "<Figure size 1080x288 with 3 Axes>"
      ]
     },
     "metadata": {
      "needs_background": "light"
     },
     "output_type": "display_data"
    }
   ],
   "source": [
    "from matplotlib import pyplot as plt\n",
    "\n",
    "metrics = [\"Precision\", \"Recall\", \"F1\"]\n",
    "colors = ['tab:blue', 'tab:red', 'tab:green']\n",
    "\n",
    "figure, axes = plt.subplots(nrows = 1, ncols = 3, figsize=(15,4))\n",
    "\n",
    "for i in range(3):\n",
    "    sns.pointplot(ax = axes[i], y = \"Features\", x = metrics[i], data = df,\n",
    "                capsize = 0.2, join = False, color = colors[i])\n",
    "    axes[i].set(xlabel = None, ylabel=None, title = metrics[i])\n",
    "\n",
    "    if i > 0:\n",
    "        axes[i].yaxis.set_visible(False)\n",
    "\n",
    "figure.savefig(\"../images/slice_metrics.svg\", format='svg', dpi=1200) \n",
    "plt.show()\n"
   ]
  },
  {
   "cell_type": "code",
   "execution_count": null,
   "metadata": {},
   "outputs": [],
   "source": [
    "sns.pointplot(y = \"Features\", x = \"Precision\", data = df,\n",
    "                   capsize = 0.2, join = False, color = 'tab:blue')"
   ]
  }
 ],
 "metadata": {
  "kernelspec": {
   "display_name": "Python 3.8.13 ('census': conda)",
   "language": "python",
   "name": "python3"
  },
  "language_info": {
   "codemirror_mode": {
    "name": "ipython",
    "version": 3
   },
   "file_extension": ".py",
   "mimetype": "text/x-python",
   "name": "python",
   "nbconvert_exporter": "python",
   "pygments_lexer": "ipython3",
   "version": "3.10.0"
  },
  "orig_nbformat": 4,
  "vscode": {
   "interpreter": {
    "hash": "8b41f165089a68a050db95c74117a6407ee599226030503e7a428cff3076cc89"
   }
  }
 },
 "nbformat": 4,
 "nbformat_minor": 2
}
